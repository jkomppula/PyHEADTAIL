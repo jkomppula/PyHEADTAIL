{
 "cells": [
  {
   "cell_type": "code",
   "execution_count": null,
   "metadata": {},
   "outputs": [],
   "source": [
    "%matplotlib inline\n",
    "\n",
    "import matplotlib\n",
    "import numpy as np\n",
    "import matplotlib.pyplot as plt\n",
    "import h5py, os"
   ]
  },
  {
   "cell_type": "code",
   "execution_count": null,
   "metadata": {
    "collapsed": true
   },
   "outputs": [],
   "source": [
    "def get_data(datafile, filling_scheme):\n",
    "    h5f = h5py.File(datafile,'r')\n",
    "\n",
    "    data_mean_x = None\n",
    "    data_mean_z = None\n",
    "    data_mean_dp = None\n",
    "    data_epsn_x = None\n",
    "\n",
    "    for i, bunch_id in enumerate(filling_scheme):\n",
    "        t_mean_x = h5f['Bunches'][str(bunch_id)]['mean_x'][:]\n",
    "        t_mean_y = h5f['Bunches'][str(bunch_id)]['mean_y'][:]\n",
    "        t_mean_z = h5f['Bunches'][str(bunch_id)]['mean_z'][:]\n",
    "        t_mean_dp = h5f['Bunches'][str(bunch_id)]['mean_dp'][:]\n",
    "        t_epsn_x = h5f['Bunches'][str(bunch_id)]['epsn_x'][:]\n",
    "\n",
    "        if bunch_id % 100 == 0:\n",
    "            print bunch_id/10\n",
    "        if data_mean_x is None:\n",
    "            data_mean_x = np.zeros((len(t_mean_x),len(filling_scheme)))\n",
    "            data_mean_y = np.zeros((len(t_mean_y),len(filling_scheme)))\n",
    "            data_mean_z = np.zeros((len(t_mean_x),len(filling_scheme)))\n",
    "            data_mean_dp = np.zeros((len(t_mean_x),len(filling_scheme)))\n",
    "            data_epsn_x = np.zeros((len(t_mean_x),len(filling_scheme)))\n",
    "        np.copyto(data_mean_x[:,i],t_mean_x)\n",
    "        np.copyto(data_mean_y[:,i],t_mean_y)\n",
    "        np.copyto(data_mean_z[:,i],t_mean_z)\n",
    "        np.copyto(data_mean_dp[:,i],t_mean_dp)\n",
    "        np.copyto(data_epsn_x[:,i],t_epsn_x)\n",
    "        \n",
    "    return data_mean_x, data_mean_y, data_mean_z,  data_epsn_x, data_mean_dp\n",
    "\n",
    "def get_slice_data(datafile):\n",
    "    h5f = h5py.File(datafile,'r')\n",
    "\n",
    "    data_mean_x = h5f['Slices']['mean_x'][:]\n",
    "    data_mean_z = h5f['Slices']['mean_z'][:]\n",
    "    data_mean_dp = h5f['Slices']['mean_dp'][:]\n",
    "    data_epsn_x = h5f['Slices']['epsn_x'][:]\n",
    "\n",
    "    return data_mean_x, data_mean_z,  data_epsn_x, data_mean_dp"
   ]
  },
  {
   "cell_type": "markdown",
   "metadata": {},
   "source": [
    "## Launches the simulations"
   ]
  },
  {
   "cell_type": "code",
   "execution_count": null,
   "metadata": {},
   "outputs": [],
   "source": [
    "import subprocess\n",
    "print \"start\"\n",
    "# The first argument is a number of processors given to the mpirun and the second one is the case index\n",
    "subprocess.call(\"./run_local_job.sh 4 0\", shell=True)\n",
    "subprocess.call(\"./run_local_job.sh 4 1\", shell=True)\n",
    "print \"end\""
   ]
  },
  {
   "cell_type": "markdown",
   "metadata": {},
   "source": [
    "## Filling scheme\n",
    "**Must be exactly same as given in the PyHEADTAIL script!!**"
   ]
  },
  {
   "cell_type": "code",
   "execution_count": null,
   "metadata": {
    "collapsed": true
   },
   "outputs": [],
   "source": [
    "h_RF = 274\n",
    "h_RF = 156\n",
    "# h_RF = 2748\n",
    "filling_scheme = sorted([i for i in range(h_RF)])\n",
    "\n",
    "n_bunches = len(filling_scheme)"
   ]
  },
  {
   "cell_type": "markdown",
   "metadata": {},
   "source": [
    "## Reads data from the h5 files"
   ]
  },
  {
   "cell_type": "code",
   "execution_count": null,
   "metadata": {},
   "outputs": [],
   "source": [
    "\n",
    "data_set_0 = './data_case_0/'\n",
    "data_set_1 = './data_case_1/'\n",
    "filename = 'bunchmonitor_0000_chroma=0.h5'\n",
    "\n",
    "datafile_0 = data_set_0 + filename\n",
    "datafile_1 = data_set_1 + filename\n",
    "\n",
    "# slice_filename = 'slicemonitor_bunch_255_0000_chroma=0.h5'\n",
    "\n",
    "# slicefile_new = data_set_new + slice_filename\n",
    "# slicefile_org = data_set_org + slice_filename\n",
    "\n",
    "case_0_mean_x, case_0_mean_y, case_0_mean_z,  case_0_epsn_x, case_0_mean_dp = get_data(datafile_0, filling_scheme)\n",
    "case_1_mean_x, case_1_mean_y, case_1_mean_z,  case_1_epsn_x, case_1_mean_dp = get_data(datafile_1, filling_scheme)\n",
    "\n",
    "# slice_new_mean_x, slice_new_mean_z, slice_new_epsn_x, slice_new_mean_dp = get_slice_data(slicefile_new)\n",
    "# slice_org_mean_x, slice_org_mean_z, slice_org_epsn_x, slice_org_mean_dp = get_slice_data(slicefile_org)\n",
    "\n",
    "os.remove(datafile_0)\n",
    "os.remove(datafile_1)"
   ]
  },
  {
   "cell_type": "markdown",
   "metadata": {},
   "source": [
    "## Mean_x comparison"
   ]
  },
  {
   "cell_type": "code",
   "execution_count": null,
   "metadata": {},
   "outputs": [],
   "source": [
    "import matplotlib.gridspec as gridspec\n",
    "fig = plt.figure(figsize=(12,6))\n",
    "gs = gridspec.GridSpec(2, 2)\n",
    "\n",
    "ax1 = fig.add_subplot(gs[0, 0])\n",
    "ax1.set_title(\"Case 0\")\n",
    "ax1.set_xlabel('Turn')\n",
    "ax1.set_ylabel('Bunch mean_x')\n",
    "\n",
    "ax2 = fig.add_subplot(gs[0, 1])\n",
    "ax2.set_title(\"Case 1\")\n",
    "ax2.set_ylabel('Bunch mean_x')\n",
    "\n",
    "ax3 = fig.add_subplot(gs[1, :])\n",
    "ax3.set_xlabel('Turn')\n",
    "ax3.set_ylabel('Position difference')\n",
    "\n",
    "ax1.set_color_cycle([plt.cm.viridis(i) for i in np.linspace(0, 1, n_bunches)])\n",
    "ax2.set_color_cycle([plt.cm.viridis(i) for i in np.linspace(0, 1, n_bunches)])\n",
    "ax3.set_color_cycle([plt.cm.viridis(i) for i in np.linspace(0, 1, n_bunches)])\n",
    "\n",
    "for i in xrange(n_bunches):\n",
    "    ax1.plot(case_0_mean_x[:,i]*1e6)\n",
    "    ax2.plot(case_1_mean_x[:,i]*1e6)\n",
    "    ax3.plot((case_0_mean_x[:,i]-case_1_mean_x[:,i])*1e6)\n",
    "    \n",
    "plt.tight_layout()\n",
    "plt.show()"
   ]
  },
  {
   "cell_type": "markdown",
   "metadata": {},
   "source": [
    "## Mean_y comparison"
   ]
  },
  {
   "cell_type": "code",
   "execution_count": null,
   "metadata": {},
   "outputs": [],
   "source": [
    "import matplotlib.gridspec as gridspec\n",
    "fig = plt.figure(figsize=(12,6))\n",
    "gs = gridspec.GridSpec(2, 2)\n",
    "\n",
    "ax1 = fig.add_subplot(gs[0, 0])\n",
    "ax1.set_title(\"Case 0\")\n",
    "ax1.set_xlabel('Turn')\n",
    "ax1.set_ylabel('Bunch mean_y')\n",
    "\n",
    "ax2 = fig.add_subplot(gs[0, 1])\n",
    "ax2.set_title(\"Case 1\")\n",
    "ax2.set_ylabel('Bunch mean_y')\n",
    "\n",
    "ax3 = fig.add_subplot(gs[1, :])\n",
    "ax3.set_xlabel('Turn')\n",
    "ax3.set_ylabel('Position difference')\n",
    "\n",
    "ax1.set_color_cycle([plt.cm.viridis(i) for i in np.linspace(0, 1, n_bunches)])\n",
    "ax2.set_color_cycle([plt.cm.viridis(i) for i in np.linspace(0, 1, n_bunches)])\n",
    "ax3.set_color_cycle([plt.cm.viridis(i) for i in np.linspace(0, 1, n_bunches)])\n",
    "\n",
    "for i in xrange(n_bunches):\n",
    "    ax1.plot(case_0_mean_y[:,i]*1e6)\n",
    "    ax2.plot(case_1_mean_y[:,i]*1e6)\n",
    "    ax3.plot((case_0_mean_y[:,i]-case_1_mean_y[:,i])*1e6)\n",
    "    \n",
    "plt.tight_layout()\n",
    "plt.show()"
   ]
  },
  {
   "cell_type": "markdown",
   "metadata": {},
   "source": [
    "## Mean_dp comparison"
   ]
  },
  {
   "cell_type": "code",
   "execution_count": null,
   "metadata": {},
   "outputs": [],
   "source": [
    "import matplotlib.gridspec as gridspec\n",
    "fig = plt.figure(figsize=(12,6))\n",
    "gs = gridspec.GridSpec(2, 2)\n",
    "\n",
    "ax1 = fig.add_subplot(gs[0, 0])\n",
    "ax1.set_title(\"Case 0\")\n",
    "ax1.set_xlabel('Turn')\n",
    "ax1.set_ylabel('Bunch mean_dp')\n",
    "\n",
    "ax2 = fig.add_subplot(gs[0, 1])\n",
    "ax2.set_title(\"Case 1\")\n",
    "ax2.set_ylabel('Bunch mean_dp')\n",
    "\n",
    "ax3 = fig.add_subplot(gs[1, :])\n",
    "ax3.set_xlabel('Turn')\n",
    "ax3.set_ylabel('Position difference')\n",
    "\n",
    "ax1.set_color_cycle([plt.cm.viridis(i) for i in np.linspace(0, 1, n_bunches)])\n",
    "ax2.set_color_cycle([plt.cm.viridis(i) for i in np.linspace(0, 1, n_bunches)])\n",
    "ax3.set_color_cycle([plt.cm.viridis(i) for i in np.linspace(0, 1, n_bunches)])\n",
    "\n",
    "for i in xrange(n_bunches):\n",
    "    ax1.plot(case_0_mean_dp[:,i]*1e6)\n",
    "    ax2.plot(case_1_mean_dp[:,i]*1e6)\n",
    "    ax3.plot((case_0_mean_dp[:,i]-case_1_mean_dp[:,i])*1e6)\n",
    "    \n",
    "plt.tight_layout()\n",
    "plt.show()"
   ]
  },
  {
   "cell_type": "code",
   "execution_count": null,
   "metadata": {
    "collapsed": true
   },
   "outputs": [],
   "source": []
  }
 ],
 "metadata": {
  "kernelspec": {
   "display_name": "Python 2",
   "language": "python",
   "name": "python2"
  },
  "language_info": {
   "codemirror_mode": {
    "name": "ipython",
    "version": 2
   },
   "file_extension": ".py",
   "mimetype": "text/x-python",
   "name": "python",
   "nbconvert_exporter": "python",
   "pygments_lexer": "ipython2",
   "version": "2.7.16"
  }
 },
 "nbformat": 4,
 "nbformat_minor": 2
}
